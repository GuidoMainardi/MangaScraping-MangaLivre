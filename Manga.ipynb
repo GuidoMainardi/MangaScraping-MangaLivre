{
 "cells": [
  {
   "cell_type": "code",
   "execution_count": 21,
   "metadata": {},
   "outputs": [],
   "source": [
    "DEBUG = 1"
   ]
  },
  {
   "cell_type": "code",
   "execution_count": 13,
   "metadata": {},
   "outputs": [],
   "source": [
    "from selenium import webdriver\n",
    "\n",
    "import time \n",
    "\n",
    "import os"
   ]
  },
  {
   "cell_type": "code",
   "execution_count": 5,
   "metadata": {},
   "outputs": [],
   "source": [
    "options = webdriver.ChromeOptions()\n",
    "options.add_argument('headless')\n",
    "\n",
    "driver = webdriver.Chrome(options = options)\n",
    "\n",
    "driver_aux = webdriver.Chrome(options = options)"
   ]
  },
  {
   "cell_type": "code",
   "execution_count": 6,
   "metadata": {},
   "outputs": [],
   "source": [
    "url = \"https://mangalivre.net/manga/isekai-kenja-no-tensei-musou-geemu-no-chishiki-de-isekai-saikyou/11065\""
   ]
  },
  {
   "cell_type": "code",
   "execution_count": 7,
   "metadata": {},
   "outputs": [],
   "source": [
    "images = []"
   ]
  },
  {
   "cell_type": "code",
   "execution_count": 8,
   "metadata": {},
   "outputs": [],
   "source": [
    "driver.get(url)"
   ]
  },
  {
   "cell_type": "code",
   "execution_count": 9,
   "metadata": {},
   "outputs": [],
   "source": [
    "chapters_list = driver.find_element_by_xpath('//*[@id=\"chapter-list\"]/div[2]/ul')"
   ]
  },
  {
   "cell_type": "code",
   "execution_count": 10,
   "metadata": {},
   "outputs": [],
   "source": [
    "chapters = chapters_list.find_elements_by_tag_name('li')"
   ]
  },
  {
   "cell_type": "code",
   "execution_count": 12,
   "metadata": {},
   "outputs": [
    {
     "name": "stdout",
     "output_type": "stream",
     "text": [
      "['https://cdn.optimages.net/firefox/Gir12M8CCEIZHwG7Xe8y5g/m5734428/11065/245968/255584/creditos.jpg', 'https://cdn.optimages.net/firefox/Mji3FTxv25LYOgpqEvekAQ/m5734454/11065/245968/255584/pg-1.jpg', 'https://cdn.optimages.net/firefox/w0ELr4n3TmCDnGWIu4BxIw/m5734453/11065/245968/255584/pg-2.jpg', 'https://cdn.optimages.net/firefox/oV3G0SBXTHPLq5-xZUWQ3w/m5734451/11065/245968/255584/pg-3.jpg', 'https://cdn.optimages.net/firefox/W6xb2sqyKKROFyobvMrMng/m5734419/11065/245968/255584/pg-4.png', 'https://cdn.optimages.net/firefox/oo_3dee5RBmIQvROEcPZLw/m5734434/11065/245968/255584/pg-5.png', 'https://cdn.optimages.net/firefox/vbOh2Jx7uxHbCGvXLGV0QA/m5734437/11065/245968/255584/pg-6.png', 'https://cdn.optimages.net/firefox/7hX-sDmIbSFY39BSzenJUg/m5734441/11065/245968/255584/pg-7.png', 'https://cdn.optimages.net/firefox/ySmKX6YkUsyJz4ruxTK-8w/m5734440/11065/245968/255584/pg-8.png', 'https://cdn.optimages.net/firefox/BRIyJgvZQDIlWrwWTALmYQ/m5734417/11065/245968/255584/pg-9.5.jpg', 'https://cdn.optimages.net/firefox/Jlj2IVaMn-ZeAuv0vOhOLA/m5734443/11065/245968/255584/pg-9.png', 'https://cdn.optimages.net/firefox/NEQoJEuCG8WkoSPy1cO8tQ/m5734432/11065/245968/255584/pg-10.png', 'https://cdn.optimages.net/firefox/GuXD1nyu7CLvFL1Ww9osSA/m5734422/11065/245968/255584/pg-11.png', 'https://cdn.optimages.net/firefox/tN9HHA_aBncvybG5dDhZOw/m5734445/11065/245968/255584/pg-12.png', 'https://cdn.optimages.net/firefox/sWi-jzQ9En-emciFpJD1xQ/m5734429/11065/245968/255584/pg-13.png', 'https://cdn.optimages.net/firefox/6asviVyenMgljdcVp7K0Lw/m5734424/11065/245968/255584/pg-14.png', 'https://cdn.optimages.net/firefox/QI5R-ikB3LVI-3yX3kfNDQ/m5734444/11065/245968/255584/pg-15.png', 'https://cdn.optimages.net/firefox/pLHTWzcEyBewW8qgwdExEw/m5734431/11065/245968/255584/pg-16.png', 'https://cdn.optimages.net/firefox/Ec8JD_diAFYePMtvZdqt6w/m5734426/11065/245968/255584/pg-17.png', 'https://cdn.optimages.net/firefox/9szxgULMP-OcdFUZWzFAsA/m5734430/11065/245968/255584/pg-18.png', 'https://cdn.optimages.net/firefox/TAKmS72_eNuahH4UjXfzvw/m5734427/11065/245968/255584/pg-19.png', 'https://cdn.optimages.net/firefox/CIQ4KJ6WG2DuCTeB0a3qIQ/m5734421/11065/245968/255584/pg-20.png', 'https://cdn.optimages.net/firefox/fvrUVJD0mAlosq3hkkGLFA/m5734436/11065/245968/255584/pg-21.png', 'https://cdn.optimages.net/firefox/-8SFebjxkaqP9M6stpE_DQ/m5734435/11065/245968/255584/pg-22.png', 'https://cdn.optimages.net/firefox/VWfd0YhZvWHjj4XB-KZUog/m5734439/11065/245968/255584/pg-23.png', 'https://cdn.optimages.net/firefox/ng7s3SRWXOZ9Vgs6dnTWgQ/m5734442/11065/245968/255584/pg-24.png', 'https://cdn.optimages.net/firefox/PyLXl6VVoMu8ar3Xj4gipQ/m5734433/11065/245968/255584/pg-25.png', 'https://cdn.optimages.net/firefox/-O5mjjcQs4X7BYzC1_bYCw/m5734425/11065/245968/255584/pg-26.png', 'https://cdn.optimages.net/firefox/BCLw7cvkj8_P0cGCtIOpmg/m5734418/11065/245968/255584/pg-27.png', 'https://cdn.optimages.net/firefox/PHZcvZI3dsTXDjNTm4phlg/m5734438/11065/245968/255584/pg-28.png', 'https://cdn.optimages.net/firefox/OlIxux_1Y7H8WVY6fpGuNQ/m5734446/11065/245968/255584/pg-29.png', 'https://cdn.optimages.net/firefox/HO4hAAmBUrQY6YwQMMNkNA/m5734420/11065/245968/255584/pg-30.png', 'https://cdn.optimages.net/firefox/2852TmqizJx-1HGryrVX8Q/m5734448/11065/245968/255584/pg-31.png', 'https://cdn.optimages.net/firefox/acP-okM9jFKqg6QB49h73g/m5734449/11065/245968/255584/pg-32.png', 'https://cdn.optimages.net/firefox/dNi-N2DZhen92X61X0Ls2A/m5734452/11065/245968/255584/pg-33.png', 'https://cdn.optimages.net/firefox/ZgDHOdzXHmk1IrAcU-LcYQ/m5734423/11065/245968/255584/pg-34.png', 'https://cdn.optimages.net/firefox/HUaXDk36nhWNAswyON8dgQ/m5734450/11065/245968/255584/pg-35.png']\n"
     ]
    }
   ],
   "source": [
    "for chapter in chapters[::-1]:\n",
    "    driver_aux.get(chapter.find_element_by_tag_name('a').get_attribute('href'))\n",
    "    next_page_button = driver_aux.find_element_by_xpath('//*[@id=\"reader-wrapper\"]/div[9]/div[2]/div/div[3]')\n",
    "    total_pages = int(driver_aux.find_element_by_xpath('//*[@id=\"reader-wrapper\"]/div[9]/div[2]/div/div[2]/span/em[2]').text)\n",
    "    for i in range(total_pages-1):\n",
    "        image = driver_aux.find_element_by_xpath('//*[@id=\"reader-wrapper\"]/div[4]/div[2]/div/img').get_attribute('src')\n",
    "        images.append(image)\n",
    "        next_page_button.click()\n",
    "        time.sleep(0.5)\n",
    "    if DEBUG == 1:\n",
    "        print(images)"
   ]
  }
 ],
 "metadata": {
  "kernelspec": {
   "display_name": "Python 3",
   "language": "python",
   "name": "python3"
  },
  "language_info": {
   "codemirror_mode": {
    "name": "ipython",
    "version": 3
   },
   "file_extension": ".py",
   "mimetype": "text/x-python",
   "name": "python",
   "nbconvert_exporter": "python",
   "pygments_lexer": "ipython3",
   "version": "3.8.5"
  }
 },
 "nbformat": 4,
 "nbformat_minor": 4
}
