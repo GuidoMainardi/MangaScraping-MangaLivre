{
 "cells": [
  {
   "cell_type": "code",
   "execution_count": 79,
   "id": "935d4517",
   "metadata": {},
   "outputs": [],
   "source": [
    "from PyPDF2 import PdfFileMerger, PdfFileReader\n",
    "from selenium import webdriver\n",
    "from PIL import Image\n",
    "import requests\n",
    "import time\n",
    "import os"
   ]
  },
  {
   "cell_type": "code",
   "execution_count": 80,
   "id": "88689f6d",
   "metadata": {},
   "outputs": [],
   "source": [
    "def merge_pdf_pages(path, chapter_name):\n",
    "    mergedObject = PdfFileMerger()\n",
    "    for filename in os.listdir(path):\n",
    "        file_path = os.path.join(path, filename)\n",
    "        if \"Page\" in filename:\n",
    "            mergedObject.append(PdfFileReader(file_path, 'rb')) \n",
    "            os.remove(file_path)\n",
    "    mergedObject.write(os.path.join(path, str(chapter_name) + \".pdf\"))"
   ]
  },
  {
   "cell_type": "code",
   "execution_count": 81,
   "id": "c23c16e8",
   "metadata": {},
   "outputs": [],
   "source": [
    "def save_page_as_pdf(image_url, folder_path, page_number):\n",
    "    image_data = requests.get(image_url).content\n",
    "    image_path = os.path.join(folder_path, 'Page_' + str(page_number) + '.jpg')\n",
    "    with open(image_path, 'wb') as handler:\n",
    "        handler.write(image_data)\n",
    "    image_png = Image.open(image_path)\n",
    "    image_saver = image_png.convert('RGB')\n",
    "    image_saver.save(os.path.join(folder_path, 'Page_' + str(page_number).zfill(3)+'.pdf'))\n",
    "    os.remove(image_path)"
   ]
  },
  {
   "cell_type": "code",
   "execution_count": 82,
   "id": "f810950c",
   "metadata": {},
   "outputs": [],
   "source": [
    "def split_input_line(line):\n",
    "    line = line.split()\n",
    "    url = line[0]\n",
    "    if len(line) == 1:\n",
    "        return url, 0, -1\n",
    "    params = line[1].split('-')\n",
    "    lower = int(params[0]) if params[0] != \"x\" else 0\n",
    "    upper = int(params[1]) if params[1] != \"x\" else -1\n",
    "\n",
    "    return url, lower, upper"
   ]
  },
  {
   "cell_type": "code",
   "execution_count": 83,
   "id": "2fa769db",
   "metadata": {},
   "outputs": [],
   "source": [
    "def create_dir(file_path):\n",
    "    if not os.path.exists(file_path):\n",
    "        os.makedirs(file_path)"
   ]
  },
  {
   "cell_type": "code",
   "execution_count": 84,
   "id": "b1180e43",
   "metadata": {},
   "outputs": [],
   "source": [
    "def find_first(lower, driver):\n",
    "    driver.get(url)\n",
    "    chapters_list = driver.find_element_by_xpath('//*[@id=\"chapter-list\"]/div[2]/ul')\n",
    "    chapters = chapters_list.find_elements_by_tag_name('li')\n",
    "    driver.get(get_a_chapter(driver, chapters))\n",
    "    chapters = driver.find_element_by_xpath(\"//*[@id=\\\"reader-wrapper\\\"]/div[2]/div[3]/div[4]/div/ul\").find_elements_by_tag_name('li')\n",
    "    for chapter in chapters:\n",
    "        if chapter.find_element_by_tag_name('a').get_attribute('href').split('/')[-1] == 'capitulo-' + str(lower):\n",
    "            driver.get(chapter.find_element_by_tag_name('a').get_attribute('href'))\n",
    "            return\n",
    "    driver.get(chapters[-1].find_element_by_tag_name('a').get_attribute('href'))"
   ]
  },
  {
   "cell_type": "code",
   "execution_count": 85,
   "id": "db715fde",
   "metadata": {},
   "outputs": [],
   "source": [
    "def check_last_chapter(driver):\n",
    "    try:\n",
    "        element = driver.find_element_by_xpath(\"//*[@id=\\\"reader-wrapper\\\"]/div[2]/div[3]/div[3]\")\n",
    "        if \"disabled\" in element.get_attribute(\"class\"):\n",
    "            return False\n",
    "    except:\n",
    "        return False\n",
    "    return True"
   ]
  },
  {
   "cell_type": "code",
   "execution_count": 86,
   "id": "fc5454c9",
   "metadata": {},
   "outputs": [],
   "source": [
    "def check_last_wanted(upper, driver):\n",
    "    return driver.find_element_by_xpath(\"//*[@id=\\\"reader-wrapper\\\"]/div[2]/div[3]/div[2]/span[1]\").find_element_by_tag_name('em').text != upper"
   ]
  },
  {
   "cell_type": "code",
   "execution_count": 87,
   "id": "16d19c51",
   "metadata": {},
   "outputs": [],
   "source": [
    "def get_a_chapter(driver, chapters):\n",
    "    while not len(chapters):\n",
    "        driver.execute_script(\"window.scrollTo(0, document.body.scrollHeight);\")\n",
    "        chapters_list = driver.find_element_by_xpath('//*[@id=\"chapter-list\"]/div[2]/ul')\n",
    "        chapters = chapters_list.find_elements_by_tag_name('li')\n",
    "    return chapters[0].find_element_by_tag_name('a').get_attribute('href')"
   ]
  },
  {
   "cell_type": "code",
   "execution_count": 88,
   "id": "0113b190",
   "metadata": {},
   "outputs": [],
   "source": [
    "def setup_folder_path(url):\n",
    "    Manga_Name = \"_\".join(url.split('/')[-2].split(\"-\"))\n",
    "    folder_path = os.path.join(os.path.join(os.getcwd(), 'Files'), Manga_Name)\n",
    "    create_dir(folder_path)\n",
    "    return folder_path"
   ]
  },
  {
   "cell_type": "code",
   "execution_count": 89,
   "id": "05183142",
   "metadata": {},
   "outputs": [],
   "source": [
    "options = webdriver.ChromeOptions()\n",
    "options.add_argument('headless')\n",
    "driver = webdriver.Chrome(options = options)"
   ]
  },
  {
   "cell_type": "code",
   "execution_count": 90,
   "id": "70d51512",
   "metadata": {},
   "outputs": [],
   "source": [
    "input = open('mangas.txt', 'r')\n",
    "input_lines = input.readlines()"
   ]
  },
  {
   "cell_type": "code",
   "execution_count": 91,
   "id": "68fa3582",
   "metadata": {},
   "outputs": [],
   "source": [
    "for line in input_lines:\n",
    "    url, lower, upper = split_input_line(line)\n",
    "    folder_path = setup_folder_path(url)\n",
    "    find_first(lower, driver)\n",
    "    \n",
    "    while (lower - (upper + 1)):\n",
    "        next_page_button = driver.find_element_by_xpath('//*[@id=\"reader-wrapper\"]/div[9]/div[2]/div/div[3]')\n",
    "        total_pages = int(driver.find_element_by_xpath('//*[@id=\"reader-wrapper\"]/div[9]/div[2]/div/div[2]/span/em[2]').text)\n",
    "        for i in range(1,total_pages+1):\n",
    "            image_url = driver.find_element_by_xpath('//*[@id=\"reader-wrapper\"]/div[4]/div[2]/div/img').get_attribute('src')\n",
    "            save_page_as_pdf(image_url, folder_path, i)\n",
    "            next_page_button.click()\n",
    "        merge_pdf_pages(folder_path, \"Capítulo_\" + driver.find_element_by_xpath(\"//*[@id=\\\"reader-wrapper\\\"]/div[2]/div[3]/div[2]/span[1]\").find_element_by_tag_name('em').text)\n",
    "        lower += 1\n",
    "        if not check_last_chapter(driver):\n",
    "            break\n",
    "        driver.find_element_by_xpath('//*[@id=\\\"reader-wrapper\\\"]/div[2]/div[3]/div[3]').click()\n",
    "    "
   ]
  },
  {
   "cell_type": "code",
   "execution_count": null,
   "id": "cff49488",
   "metadata": {},
   "outputs": [],
   "source": []
  }
 ],
 "metadata": {
  "kernelspec": {
   "display_name": "Python 3",
   "language": "python",
   "name": "python3"
  },
  "language_info": {
   "codemirror_mode": {
    "name": "ipython",
    "version": 3
   },
   "file_extension": ".py",
   "mimetype": "text/x-python",
   "name": "python",
   "nbconvert_exporter": "python",
   "pygments_lexer": "ipython3",
   "version": "3.9.5"
  }
 },
 "nbformat": 4,
 "nbformat_minor": 5
}
